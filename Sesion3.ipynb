{
  "cells": [
    {
      "cell_type": "markdown",
      "metadata": {
        "id": "view-in-github",
        "colab_type": "text"
      },
      "source": [
        "<a href=\"https://colab.research.google.com/github/PCD2526/sesion3-carlosdiazbarea/blob/main/Sesion3.ipynb\" target=\"_parent\"><img src=\"https://colab.research.google.com/assets/colab-badge.svg\" alt=\"Open In Colab\"/></a>"
      ]
    },
    {
      "cell_type": "markdown",
      "metadata": {
        "id": "aaRjJfK0mCu8"
      },
      "source": [
        "# Sesión 3: estructuras de datos y ficheros"
      ]
    },
    {
      "cell_type": "markdown",
      "metadata": {
        "id": "OfEu7DuRmCu-"
      },
      "source": [
        "En esta sesión vamos a incidir de nuevo en el manejo de estructuras de alto nivel (listas, tuplas, conjuntos y diccionarios). Además, tratamos brevemente el asunto de los ficheros en Python. No vamos a entrar de lleno en ello, ya que, para los objetivos del curso, resulta más conveniente esperar a tratar el manejo de ficheros usando librerías (Pandas y Numpy)."
      ]
    },
    {
      "cell_type": "markdown",
      "metadata": {
        "id": "cy82JMKkmCu-"
      },
      "source": [
        "Podemos encontrar explicación con un nivel suficiente de detalle en la [Sección 5 del tutorial de Python](https://docs.python.org/3/tutorial/datastructures.html).\n",
        "\n",
        "También es adecuda la sección dedicada a [\"data structures and sequences\" del libro \"Python for data analysis\"](https://wesmckinney.com/book/python-builtin#tut_data_structures)."
      ]
    },
    {
      "cell_type": "markdown",
      "metadata": {
        "id": "tSUIeBnCmCu_"
      },
      "source": [
        "## Listas"
      ]
    },
    {
      "cell_type": "markdown",
      "metadata": {
        "id": "aHOPAa6xmCu_"
      },
      "source": [
        "Las listas de Python son objetos heterogéneos mutables.\n",
        "El acceso habitual es por índice o a través de slices.\n",
        "Se dispone de un importante grupo de métodos (de los objetos de la clase List) para operar con listas."
      ]
    },
    {
      "cell_type": "code",
      "execution_count": null,
      "metadata": {
        "id": "Gx1FX3ylmCvA",
        "colab": {
          "base_uri": "https://localhost:8080/"
        },
        "outputId": "11fdd79d-ef21-4d99-d210-f33bd091bcfe"
      },
      "outputs": [
        {
          "output_type": "stream",
          "name": "stdout",
          "text": [
            "0\n"
          ]
        },
        {
          "output_type": "execute_result",
          "data": {
            "text/plain": [
              "[23, 45, 67, 89, 7]"
            ]
          },
          "metadata": {},
          "execution_count": 1
        }
      ],
      "source": [
        "#para añadir al final append\n",
        "J=[\"pepe\",3]\n",
        "print(J.index(\"pepe\"))#para decir el índice en que está pepe\n",
        "L=[23,45,67,89]\n",
        "L.append(7)\n",
        "L"
      ]
    },
    {
      "cell_type": "code",
      "execution_count": null,
      "metadata": {
        "id": "ys7d-88zmCvB",
        "colab": {
          "base_uri": "https://localhost:8080/"
        },
        "outputId": "aed21c68-d6be-4cd9-e63c-c68f1864b9ff"
      },
      "outputs": [
        {
          "output_type": "execute_result",
          "data": {
            "text/plain": [
              "[23, 45, 67, 89, 7, 1, 2, 3, 4, 5, 6, 7, 8, 1]"
            ]
          },
          "metadata": {},
          "execution_count": 2
        }
      ],
      "source": [
        "#Se puede extender una lista con cualquier objeto iterable. Una tupla,\n",
        "#L.extend((3,4))\n",
        "\n",
        "L.extend(range(1,9))\n",
        "#Lo siguiente no es correcto porque...\n",
        "#L1=L.extend((1,)) #pues L1 será None, no se puede hacer igualdades así con el extend\n",
        "#print(L1)\n",
        "#Lo siguiente tampoco\n",
        "#L1=L.extend((1,)).copy()\n",
        "#print(L1)\n",
        "L.extend((1,))\n",
        "L1=L.copy()\n",
        "L1"
      ]
    },
    {
      "cell_type": "code",
      "execution_count": null,
      "metadata": {
        "id": "wRDmhHoYmCvB",
        "colab": {
          "base_uri": "https://localhost:8080/"
        },
        "outputId": "24f79946-772b-404f-a751-c1140f35484a"
      },
      "outputs": [
        {
          "output_type": "execute_result",
          "data": {
            "text/plain": [
              "[23, 45, 67, 89, 7, 1, 2, 3, 4, 5, 6, 7, 8, 1, 2, 3]"
            ]
          },
          "metadata": {},
          "execution_count": 3
        }
      ],
      "source": [
        "#Si extendemos una lista con un diccionario, añadimos las claves del diccionario\n",
        "L.extend({2:\"hola\",3:\"adiós\"})\n",
        "L"
      ]
    },
    {
      "cell_type": "code",
      "execution_count": null,
      "metadata": {
        "id": "TEm3MnGImCvC",
        "colab": {
          "base_uri": "https://localhost:8080/"
        },
        "outputId": "3f457035-7097-491c-f4f1-1fd07a0a7ded"
      },
      "outputs": [
        {
          "output_type": "execute_result",
          "data": {
            "text/plain": [
              "[23, 45, 444, 67, 89, 7, 1, 2, 3, 4, 5, 6, 7, 8, 1, 2, 3]"
            ]
          },
          "metadata": {},
          "execution_count": 4
        }
      ],
      "source": [
        "#Añadir por posición\n",
        "L.insert(2,444)\n",
        "L"
      ]
    },
    {
      "cell_type": "code",
      "execution_count": null,
      "metadata": {
        "id": "Ushc3l3CmCvC",
        "colab": {
          "base_uri": "https://localhost:8080/",
          "height": 193
        },
        "outputId": "f7781aca-49c2-42be-827e-e40cf64711a9"
      },
      "outputs": [
        {
          "output_type": "error",
          "ename": "ValueError",
          "evalue": "list.remove(x): x not in list",
          "traceback": [
            "\u001b[0;31m---------------------------------------------------------------------------\u001b[0m",
            "\u001b[0;31mValueError\u001b[0m                                Traceback (most recent call last)",
            "\u001b[0;32m/tmp/ipython-input-2013198076.py\u001b[0m in \u001b[0;36m<cell line: 0>\u001b[0;34m()\u001b[0m\n\u001b[1;32m      2\u001b[0m \u001b[0;31m#L.remove(3)\u001b[0m\u001b[0;34m\u001b[0m\u001b[0;34m\u001b[0m\u001b[0m\n\u001b[1;32m      3\u001b[0m \u001b[0;31m#print(L)\u001b[0m\u001b[0;34m\u001b[0m\u001b[0;34m\u001b[0m\u001b[0m\n\u001b[0;32m----> 4\u001b[0;31m \u001b[0mL\u001b[0m\u001b[0;34m.\u001b[0m\u001b[0mremove\u001b[0m\u001b[0;34m(\u001b[0m\u001b[0;36m888\u001b[0m\u001b[0;34m)\u001b[0m\u001b[0;34m\u001b[0m\u001b[0;34m\u001b[0m\u001b[0m\n\u001b[0m\u001b[1;32m      5\u001b[0m \u001b[0mL\u001b[0m\u001b[0;34m\u001b[0m\u001b[0;34m\u001b[0m\u001b[0m\n",
            "\u001b[0;31mValueError\u001b[0m: list.remove(x): x not in list"
          ]
        }
      ],
      "source": [
        "#Borrar un dato (su primera aparición)\n",
        "#L.remove(3)\n",
        "#print(L)\n",
        "L.remove(888)\n",
        "L"
      ]
    },
    {
      "cell_type": "code",
      "execution_count": null,
      "metadata": {
        "id": "-FICbT-WmCvC"
      },
      "outputs": [],
      "source": [
        "L.insert(3,33)\n",
        "L.insert(7,33)\n",
        "L.insert(0,3)\n"
      ]
    },
    {
      "cell_type": "code",
      "execution_count": null,
      "metadata": {
        "id": "gTHzo0qwmCvC",
        "colab": {
          "base_uri": "https://localhost:8080/"
        },
        "outputId": "beed0fe5-974f-471e-e226-4549d60acc1c"
      },
      "outputs": [
        {
          "output_type": "execute_result",
          "data": {
            "text/plain": [
              "0"
            ]
          },
          "metadata": {},
          "execution_count": 7
        }
      ],
      "source": [
        "#primer índice que ocupa un elemento a partir de una determinada posición (opcional)\n",
        "L.index(3)"
      ]
    },
    {
      "cell_type": "code",
      "execution_count": null,
      "metadata": {
        "id": "912-5WFZmCvD",
        "colab": {
          "base_uri": "https://localhost:8080/"
        },
        "outputId": "affb536c-3a54-4852-9932-bc343cd322d3"
      },
      "outputs": [
        {
          "output_type": "execute_result",
          "data": {
            "text/plain": [
              "11"
            ]
          },
          "metadata": {},
          "execution_count": 11
        }
      ],
      "source": [
        "L.index(3,5)\n"
      ]
    },
    {
      "cell_type": "code",
      "execution_count": null,
      "metadata": {
        "id": "tuT_gMS9mCvD",
        "colab": {
          "base_uri": "https://localhost:8080/",
          "height": 141
        },
        "outputId": "e7961f74-491b-436b-9682-d7fa29d89f35"
      },
      "outputs": [
        {
          "output_type": "error",
          "ename": "ValueError",
          "evalue": "3 is not in list",
          "traceback": [
            "\u001b[0;31m---------------------------------------------------------------------------\u001b[0m",
            "\u001b[0;31mValueError\u001b[0m                                Traceback (most recent call last)",
            "\u001b[0;32m/tmp/ipython-input-4083711163.py\u001b[0m in \u001b[0;36m<cell line: 0>\u001b[0;34m()\u001b[0m\n\u001b[0;32m----> 1\u001b[0;31m \u001b[0mL\u001b[0m\u001b[0;34m.\u001b[0m\u001b[0mindex\u001b[0m\u001b[0;34m(\u001b[0m\u001b[0;36m3\u001b[0m\u001b[0;34m,\u001b[0m\u001b[0;36m27\u001b[0m\u001b[0;34m)\u001b[0m\u001b[0;34m\u001b[0m\u001b[0;34m\u001b[0m\u001b[0m\n\u001b[0m",
            "\u001b[0;31mValueError\u001b[0m: 3 is not in list"
          ]
        }
      ],
      "source": [
        "L.index(3,27)"
      ]
    },
    {
      "cell_type": "code",
      "execution_count": null,
      "metadata": {
        "id": "LRLpUPVsmCvD",
        "colab": {
          "base_uri": "https://localhost:8080/"
        },
        "outputId": "8afe4a9b-ca22-40e1-9827-268ab3b0d9d0"
      },
      "outputs": [
        {
          "output_type": "stream",
          "name": "stdout",
          "text": [
            "[3, 23, 45, 444, 33, 67, 89, 7, 33, 1, 2, 3, 4, 5, 6, 7, 8, 1, 2, 3]\n",
            "[23, 45, 444, 33, 67, 89, 7, 33, 1, 2, 3, 4, 5, 6, 7, 8, 1, 2, 3]\n"
          ]
        }
      ],
      "source": [
        "#Aunque no es un método de listas, el \"operador del\" permite eliminar por posición\n",
        "print(L)\n",
        "del (L[0])\n",
        "print(L)"
      ]
    },
    {
      "cell_type": "code",
      "execution_count": null,
      "metadata": {
        "id": "zLUbSfFnmCvD",
        "colab": {
          "base_uri": "https://localhost:8080/"
        },
        "outputId": "b9d9822d-565d-4119-e2c8-5313ca12d920"
      },
      "outputs": [
        {
          "output_type": "stream",
          "name": "stdout",
          "text": [
            "[3, 23, 45, 33, 444, 89, 7, 33, 1, 2, 3, 4, 5, 6, 7, 8, 1, 2, 3]\n"
          ]
        }
      ],
      "source": [
        "del(L[5:8])\n",
        "print(L)\n",
        "#dir(L)"
      ]
    },
    {
      "cell_type": "markdown",
      "metadata": {
        "raw_mimetype": "text/latex",
        "id": "waolvdmAmCvD"
      },
      "source": [
        "**Trabajo personal**: hacer pruebas con ``pop``, ``cont``, ``sort``, ``copy``, ``clear``, ..."
      ]
    },
    {
      "cell_type": "markdown",
      "metadata": {
        "id": "GI7WkPNxmCvD"
      },
      "source": [
        "Consultar la documentación para ver el uso de las listas Python como pilas y colas."
      ]
    },
    {
      "cell_type": "markdown",
      "metadata": {
        "id": "2fWdCw1cmCvE"
      },
      "source": [
        "###### Muy importante."
      ]
    },
    {
      "cell_type": "code",
      "execution_count": null,
      "metadata": {
        "id": "rE38-UmVmCvE",
        "colab": {
          "base_uri": "https://localhost:8080/"
        },
        "outputId": "e710855e-026b-41a0-fe2d-cffa35b5cc5e"
      },
      "outputs": [
        {
          "output_type": "execute_result",
          "data": {
            "text/plain": [
              "NoneType"
            ]
          },
          "metadata": {},
          "execution_count": 15
        }
      ],
      "source": [
        "L.insert(0,8)\n",
        "L\n",
        "type(L.insert(0,8))\n",
        "# help(list.insert)"
      ]
    },
    {
      "cell_type": "markdown",
      "metadata": {
        "id": "Xu6toAv6mCvE"
      },
      "source": [
        "Como ya hemos visto antes, los métodos modificadores no devuelven, es decir, devuelven ``None``.\n",
        "Por eso, no funciona lo siguiente (algo que choca desde el punto de vista funcional)"
      ]
    },
    {
      "cell_type": "code",
      "execution_count": null,
      "metadata": {
        "id": "IWNoOumtmCvE",
        "colab": {
          "base_uri": "https://localhost:8080/",
          "height": 141
        },
        "outputId": "e83078ce-27b9-4dcf-a8c3-d1a4cf91e0ac"
      },
      "outputs": [
        {
          "output_type": "error",
          "ename": "AttributeError",
          "evalue": "'NoneType' object has no attribute 'insert'",
          "traceback": [
            "\u001b[0;31m---------------------------------------------------------------------------\u001b[0m",
            "\u001b[0;31mAttributeError\u001b[0m                            Traceback (most recent call last)",
            "\u001b[0;32m/tmp/ipython-input-4292109626.py\u001b[0m in \u001b[0;36m<cell line: 0>\u001b[0;34m()\u001b[0m\n\u001b[0;32m----> 1\u001b[0;31m \u001b[0mL\u001b[0m\u001b[0;34m.\u001b[0m\u001b[0minsert\u001b[0m\u001b[0;34m(\u001b[0m\u001b[0;36m0\u001b[0m\u001b[0;34m,\u001b[0m\u001b[0;36m8\u001b[0m\u001b[0;34m)\u001b[0m\u001b[0;34m.\u001b[0m\u001b[0minsert\u001b[0m\u001b[0;34m(\u001b[0m\u001b[0;36m4\u001b[0m\u001b[0;34m,\u001b[0m\u001b[0;36m5\u001b[0m\u001b[0;34m)\u001b[0m\u001b[0;34m\u001b[0m\u001b[0;34m\u001b[0m\u001b[0m\n\u001b[0m",
            "\u001b[0;31mAttributeError\u001b[0m: 'NoneType' object has no attribute 'insert'"
          ]
        }
      ],
      "source": [
        "\n",
        "L.insert(0,8).insert(4,5)\n"
      ]
    },
    {
      "cell_type": "markdown",
      "metadata": {
        "id": "hnu4ZvzLmCvE"
      },
      "source": [
        "### Listas por comprensión"
      ]
    },
    {
      "cell_type": "markdown",
      "metadata": {
        "id": "u-LPTO9TmCvE"
      },
      "source": [
        "Una herramienta importante de Python es la definición de listas por comprensión, un mecanismo propio de la Programación Funcional y que veremos con más detalle en sesiones posteriores.\n",
        "Corresponde a un tipo de definición habitual en matemáticas, conjuntos definidos por \"comprensión\". De momento, nos limitamos a presentarlo."
      ]
    },
    {
      "cell_type": "code",
      "execution_count": null,
      "metadata": {
        "id": "ZH44H1TxmCvE",
        "colab": {
          "base_uri": "https://localhost:8080/"
        },
        "outputId": "c138e6ed-f41a-40c4-996d-dd2728e01708"
      },
      "outputs": [
        {
          "output_type": "stream",
          "name": "stdout",
          "text": [
            "[2, 4, 6, 8, 10, 12]\n"
          ]
        }
      ],
      "source": [
        "dobles=[2*x for x in [1,2,3,4,5,6]]\n",
        "print(dobles)"
      ]
    },
    {
      "cell_type": "code",
      "execution_count": null,
      "metadata": {
        "id": "hQqqKg68mCvF",
        "colab": {
          "base_uri": "https://localhost:8080/"
        },
        "outputId": "f1095535-16ac-4101-cfc8-4d6400943179"
      },
      "outputs": [
        {
          "output_type": "stream",
          "name": "stdout",
          "text": [
            "[2, 4, 6, 8, 10, 12]\n"
          ]
        }
      ],
      "source": [
        "#Es una forma muy cómoda y compacta de calcular expresiones de tipo list\n",
        "#Equivale a:\n",
        "duplos=[]\n",
        "for x in [1,2,3,4,5,6]:\n",
        "    duplos.append(2*x)\n",
        "print(duplos)"
      ]
    },
    {
      "cell_type": "code",
      "execution_count": null,
      "metadata": {
        "id": "9CqJjkOMmCvF",
        "colab": {
          "base_uri": "https://localhost:8080/"
        },
        "outputId": "1faeceed-f942-485b-e67f-c71cfeae9591"
      },
      "outputs": [
        {
          "output_type": "execute_result",
          "data": {
            "text/plain": [
              "[6, 12, 18]"
            ]
          },
          "metadata": {},
          "execution_count": 19
        }
      ],
      "source": [
        "#Se pueden filtrar elementos\n",
        "triples=[3*x for x in range(1,7) if (x%2==0)]\n",
        "triples"
      ]
    },
    {
      "cell_type": "code",
      "execution_count": null,
      "metadata": {
        "id": "smXU8atJmCvF",
        "colab": {
          "base_uri": "https://localhost:8080/"
        },
        "outputId": "daf313c7-d20c-44d7-e5be-ca8c33202260"
      },
      "outputs": [
        {
          "output_type": "stream",
          "name": "stdout",
          "text": [
            "[6, 12, 18]\n"
          ]
        }
      ],
      "source": [
        "#Equivale a\n",
        "triplos=[]\n",
        "for x in [1,2,3,4,5,6]:\n",
        "    if (x%2==0):\n",
        "        triplos.append(3*x)\n",
        "print(triplos)"
      ]
    },
    {
      "cell_type": "code",
      "execution_count": null,
      "metadata": {
        "id": "40HaKJpLmCvF",
        "colab": {
          "base_uri": "https://localhost:8080/"
        },
        "outputId": "6a4f5b53-4a5a-41de-a862-25a745138ce6"
      },
      "outputs": [
        {
          "output_type": "execute_result",
          "data": {
            "text/plain": [
              "[(1, 3), (1, 4), (2, 3), (2, 1), (2, 4), (3, 1), (3, 4)]"
            ]
          },
          "metadata": {},
          "execution_count": 19
        }
      ],
      "source": [
        "#Se admiten expresiones lista, tupla,..\n",
        "#Se admite concatenación de parejas for...if\n",
        "combi=[(x, y) for x in [1,2,3] for y in [3,1,4] if x != y]\n",
        "combi"
      ]
    },
    {
      "cell_type": "code",
      "execution_count": null,
      "metadata": {
        "id": "0I5_aAmpmCvF",
        "colab": {
          "base_uri": "https://localhost:8080/"
        },
        "outputId": "7ff5f3bc-ebd0-49eb-ccf9-0615cd8e806f"
      },
      "outputs": [
        {
          "output_type": "execute_result",
          "data": {
            "text/plain": [
              "[(1, 3), (1, 11), (1, 4), (2, 3), (2, 11), (2, 4), (3, 11), (3, 4)]"
            ]
          },
          "metadata": {},
          "execution_count": 20
        }
      ],
      "source": [
        "combs = []\n",
        "for x in [1,2,3]:\n",
        "    for y in [3,11,4]:\n",
        "        if x != y:\n",
        "            combs.append((x, y))#con append solo puedes añadir una cosa, con extend todos los que quieras\n",
        "combs"
      ]
    },
    {
      "cell_type": "code",
      "execution_count": null,
      "metadata": {
        "id": "XUrE6FrOmCvF",
        "colab": {
          "base_uri": "https://localhost:8080/"
        },
        "outputId": "a13a7ff2-4b4b-4ada-a10b-521462a49004"
      },
      "outputs": [
        {
          "output_type": "execute_result",
          "data": {
            "text/plain": [
              "[[1], [1, 4], [1, 4, 9], [1, 4, 9, 16], [1, 4, 9, 16, 25]]"
            ]
          },
          "metadata": {},
          "execution_count": 21
        }
      ],
      "source": [
        "#Se pueden anidar listas definidas por conprensión.\n",
        "ani=[[x*x for x in range(1,i)] for i in range(2,7)]\n",
        "ani"
      ]
    },
    {
      "cell_type": "code",
      "execution_count": null,
      "metadata": {
        "id": "5HiEm1xZmCvG",
        "colab": {
          "base_uri": "https://localhost:8080/"
        },
        "outputId": "ee69734b-dc55-449e-e666-229a224d9092"
      },
      "outputs": [
        {
          "output_type": "stream",
          "name": "stdout",
          "text": [
            "[[1, 0, 0], [0, 1, 0], [0, 0, 1]]\n"
          ]
        }
      ],
      "source": [
        "def ident(n):\n",
        "    return([[int(i==x) for i in range(0,n)] for x in range (0,n)])\n",
        "\n",
        "print(ident(3))"
      ]
    },
    {
      "cell_type": "markdown",
      "metadata": {
        "id": "peZNrYYymCvG"
      },
      "source": [
        "###### Otros tipos secuencia (además de listas): tuplas y rangos"
      ]
    },
    {
      "cell_type": "markdown",
      "metadata": {
        "id": "BDj2ph3qmCvG"
      },
      "source": [
        "Los tres tipos secuencia básicos son listas, tuplas y rangos.\n",
        "Los operadores comunes  todos ellos los encontramos en:\n",
        "    https://docs.python.org/3/library/stdtypes.html#typesseq"
      ]
    },
    {
      "cell_type": "code",
      "execution_count": null,
      "metadata": {
        "id": "DENd6-X0mCvG",
        "colab": {
          "base_uri": "https://localhost:8080/"
        },
        "outputId": "8976a18b-ca2d-4bbc-f7c9-fc544ff77631"
      },
      "outputs": [
        {
          "output_type": "stream",
          "name": "stdout",
          "text": [
            "(3, [3, 4], 'pepe')\n"
          ]
        }
      ],
      "source": [
        "#Respecto de TUPLAS, se trata de secuencias inmutables y heterogéneas\n",
        "t=3,[3,4],\"pepe\"\n",
        "print(t)"
      ]
    },
    {
      "cell_type": "code",
      "execution_count": null,
      "metadata": {
        "id": "bpt1YmGHmCvG",
        "colab": {
          "base_uri": "https://localhost:8080/",
          "height": 158
        },
        "outputId": "257c24d4-ffc1-49c3-b464-2be43142ff6d"
      },
      "outputs": [
        {
          "output_type": "error",
          "ename": "TypeError",
          "evalue": "'tuple' object does not support item assignment",
          "traceback": [
            "\u001b[0;31m---------------------------------------------------------------------------\u001b[0m",
            "\u001b[0;31mTypeError\u001b[0m                                 Traceback (most recent call last)",
            "\u001b[0;32m/tmp/ipython-input-1738008927.py\u001b[0m in \u001b[0;36m<cell line: 0>\u001b[0;34m()\u001b[0m\n\u001b[1;32m      1\u001b[0m \u001b[0;31m#Ya dijimos que son objetos inmutables\u001b[0m\u001b[0;34m\u001b[0m\u001b[0;34m\u001b[0m\u001b[0m\n\u001b[0;32m----> 2\u001b[0;31m \u001b[0mt\u001b[0m\u001b[0;34m[\u001b[0m\u001b[0;36m2\u001b[0m\u001b[0;34m]\u001b[0m\u001b[0;34m=\u001b[0m\u001b[0;36m4\u001b[0m\u001b[0;34m\u001b[0m\u001b[0;34m\u001b[0m\u001b[0m\n\u001b[0m",
            "\u001b[0;31mTypeError\u001b[0m: 'tuple' object does not support item assignment"
          ]
        }
      ],
      "source": [
        "#Ya dijimos que son objetos inmutables\n",
        "t[2]=4"
      ]
    },
    {
      "cell_type": "code",
      "execution_count": null,
      "metadata": {
        "id": "CuBdDDz3mCvG",
        "colab": {
          "base_uri": "https://localhost:8080/"
        },
        "outputId": "ecf82964-0562-4dfa-874a-4b69677ceceb"
      },
      "outputs": [
        {
          "output_type": "execute_result",
          "data": {
            "text/plain": [
              "[3, 4]"
            ]
          },
          "metadata": {},
          "execution_count": 25
        }
      ],
      "source": [
        "#El acceso por índice y slice es el común a todos los tipos de secuencias\n",
        "t[1]"
      ]
    },
    {
      "cell_type": "code",
      "execution_count": null,
      "metadata": {
        "id": "-LGWEh5amCvG",
        "colab": {
          "base_uri": "https://localhost:8080/"
        },
        "outputId": "190379c0-a35d-4f37-f3be-f603088c9d61"
      },
      "outputs": [
        {
          "output_type": "execute_result",
          "data": {
            "text/plain": [
              "(3,)"
            ]
          },
          "metadata": {},
          "execution_count": 26
        }
      ],
      "source": [
        "t[0:1]"
      ]
    },
    {
      "cell_type": "code",
      "execution_count": null,
      "metadata": {
        "id": "DdTNpfffmCvQ",
        "colab": {
          "base_uri": "https://localhost:8080/"
        },
        "outputId": "dbe543dc-a0cd-4d24-963e-66eb9a72ef35"
      },
      "outputs": [
        {
          "output_type": "execute_result",
          "data": {
            "text/plain": [
              "()"
            ]
          },
          "metadata": {},
          "execution_count": 27
        }
      ],
      "source": [
        "#La tupla vacía\n",
        "s=()\n",
        "s"
      ]
    },
    {
      "cell_type": "code",
      "execution_count": null,
      "metadata": {
        "id": "pgs5uUhumCvQ",
        "colab": {
          "base_uri": "https://localhost:8080/"
        },
        "outputId": "1b921b36-2975-460f-d5f6-e9f7748affbf"
      },
      "outputs": [
        {
          "output_type": "execute_result",
          "data": {
            "text/plain": [
              "int"
            ]
          },
          "metadata": {},
          "execution_count": 28
        }
      ],
      "source": [
        "#los átomos llevan una coma\n",
        "s=(3,)\n",
        "s\n",
        "type ((3))\n",
        "#type((3,))"
      ]
    },
    {
      "cell_type": "code",
      "execution_count": null,
      "metadata": {
        "id": "hkdpH3_OmCvR",
        "colab": {
          "base_uri": "https://localhost:8080/"
        },
        "outputId": "9b9e81eb-692c-4799-f0db-186af8b32b3b"
      },
      "outputs": [
        {
          "output_type": "execute_result",
          "data": {
            "text/plain": [
              "(3,)"
            ]
          },
          "metadata": {},
          "execution_count": 29
        }
      ],
      "source": [
        "s=3,\n",
        "s"
      ]
    },
    {
      "cell_type": "code",
      "execution_count": null,
      "metadata": {
        "id": "-aimmdCVmCvR",
        "colab": {
          "base_uri": "https://localhost:8080/"
        },
        "outputId": "a92101cf-6ae7-439f-e440-1e8811f446f0"
      },
      "outputs": [
        {
          "output_type": "execute_result",
          "data": {
            "text/plain": [
              "(4, 9, 16)"
            ]
          },
          "metadata": {},
          "execution_count": 30
        }
      ],
      "source": [
        "#Se construyen a partir de cualquier iterable. Una lista, por ejemplo.\n",
        "s=tuple([x*x for x in range(2,5)])\n",
        "s"
      ]
    },
    {
      "cell_type": "code",
      "execution_count": null,
      "metadata": {
        "id": "3yiNyLzcmCvR",
        "colab": {
          "base_uri": "https://localhost:8080/"
        },
        "outputId": "8a3bc3ee-1e91-4466-c467-ee1980bd9298"
      },
      "outputs": [
        {
          "output_type": "execute_result",
          "data": {
            "text/plain": [
              "4"
            ]
          },
          "metadata": {},
          "execution_count": 31
        }
      ],
      "source": [
        "#Empaquetado y desempquetado. Corresponde con la idea de matching\n",
        "s=3,4,5\n",
        "x,y,z=s\n",
        "y"
      ]
    },
    {
      "cell_type": "code",
      "execution_count": null,
      "metadata": {
        "id": "omebf_EumCvR",
        "colab": {
          "base_uri": "https://localhost:8080/"
        },
        "outputId": "24e1f40d-2875-4315-d4f9-cf636dc76da6"
      },
      "outputs": [
        {
          "output_type": "execute_result",
          "data": {
            "text/plain": [
              "range(1, 25, 2)"
            ]
          },
          "metadata": {},
          "execution_count": 32
        }
      ],
      "source": [
        "#Más adelante en el curso trataremos con rigor los rangos.\n",
        "#Aunque no es el uso habitual, los rangos pueden ser utilizados directamente\n",
        "#como secuencias\n",
        "#Se basan en la idea de evluación perezosa (no se calculan sus elementos hasta que no se demanda)\n",
        "range (1,25,2)"
      ]
    },
    {
      "cell_type": "code",
      "execution_count": null,
      "metadata": {
        "id": "zHSfR2xjmCvR",
        "colab": {
          "base_uri": "https://localhost:8080/"
        },
        "outputId": "14a16b14-256c-4973-e124-f205b7db6c90"
      },
      "outputs": [
        {
          "output_type": "stream",
          "name": "stdout",
          "text": [
            "range(1, 25, 2)\n"
          ]
        }
      ],
      "source": [
        "print(range(1, 25, 2))"
      ]
    },
    {
      "cell_type": "code",
      "execution_count": null,
      "metadata": {
        "id": "VCpnvsZ6mCvS",
        "colab": {
          "base_uri": "https://localhost:8080/"
        },
        "outputId": "2e0fdb3e-9df1-466a-8f77-c52ac6ee28ef"
      },
      "outputs": [
        {
          "output_type": "execute_result",
          "data": {
            "text/plain": [
              "False"
            ]
          },
          "metadata": {},
          "execution_count": 34
        }
      ],
      "source": [
        "4 in range(1,25,2)"
      ]
    },
    {
      "cell_type": "code",
      "execution_count": null,
      "metadata": {
        "id": "XCXK-2osmCvS",
        "colab": {
          "base_uri": "https://localhost:8080/"
        },
        "outputId": "7e37eb5b-8c3f-4fd9-903a-b4b0046bcee9"
      },
      "outputs": [
        {
          "output_type": "execute_result",
          "data": {
            "text/plain": [
              "7"
            ]
          },
          "metadata": {},
          "execution_count": 35
        }
      ],
      "source": [
        "s=range(1,25,7)\n",
        "s.step"
      ]
    },
    {
      "cell_type": "code",
      "execution_count": null,
      "metadata": {
        "id": "LLf23_wJmCvS",
        "colab": {
          "base_uri": "https://localhost:8080/"
        },
        "outputId": "15354f92-5284-4026-b817-6219fccb0c7b"
      },
      "outputs": [
        {
          "output_type": "execute_result",
          "data": {
            "text/plain": [
              "True"
            ]
          },
          "metadata": {},
          "execution_count": 36
        }
      ],
      "source": [
        "5 not in s"
      ]
    },
    {
      "cell_type": "code",
      "execution_count": null,
      "metadata": {
        "id": "r95I06NYmCvS",
        "colab": {
          "base_uri": "https://localhost:8080/"
        },
        "outputId": "a95f8c63-145d-42bd-83a4-103098931934"
      },
      "outputs": [
        {
          "output_type": "execute_result",
          "data": {
            "text/plain": [
              "(4, 5, 6, 7)"
            ]
          },
          "metadata": {},
          "execution_count": 37
        }
      ],
      "source": [
        "s=tuple(range(4,8))\n",
        "s"
      ]
    },
    {
      "cell_type": "code",
      "execution_count": null,
      "metadata": {
        "id": "2NbD884XmCvS",
        "colab": {
          "base_uri": "https://localhost:8080/"
        },
        "outputId": "2d261a60-cb62-47d5-c26c-b5e34b8508a8"
      },
      "outputs": [
        {
          "output_type": "execute_result",
          "data": {
            "text/plain": [
              "11"
            ]
          },
          "metadata": {},
          "execution_count": 38
        }
      ],
      "source": [
        "min(range(5,8))+max(range(3,7))\n"
      ]
    },
    {
      "cell_type": "code",
      "execution_count": null,
      "metadata": {
        "id": "s4TvSlvKmCvS",
        "colab": {
          "base_uri": "https://localhost:8080/"
        },
        "outputId": "bf92211d-61cd-4c5a-c45c-9f655a50dd9a"
      },
      "outputs": [
        {
          "output_type": "execute_result",
          "data": {
            "text/plain": [
              "3"
            ]
          },
          "metadata": {},
          "execution_count": 39
        }
      ],
      "source": [
        "range(2,4)[1]"
      ]
    },
    {
      "cell_type": "code",
      "execution_count": null,
      "metadata": {
        "id": "-mW1GJJqmCvT",
        "colab": {
          "base_uri": "https://localhost:8080/"
        },
        "outputId": "c28eff89-a3e9-4854-d007-1bebd74abab5"
      },
      "outputs": [
        {
          "output_type": "stream",
          "name": "stdout",
          "text": [
            "range(4, 9, 3)\n"
          ]
        }
      ],
      "source": [
        "#Accesores a rangos mediante índices\n",
        "l=range(2,17)[2:7:3]#del rango del 2 al 17 coger los que están en las posiciones 2 y 7 pero de 3 en 3 es decir, posición 2 y 5.\n",
        "print(l)"
      ]
    },
    {
      "cell_type": "markdown",
      "metadata": {
        "id": "A_aC_hFTmCvT"
      },
      "source": [
        "**Trabajo personal**: respecto de conjuntos y diccionarios, consultad el Tutorial de Python."
      ]
    },
    {
      "cell_type": "code",
      "execution_count": null,
      "metadata": {
        "id": "btL8hmYsmCvT",
        "colab": {
          "base_uri": "https://localhost:8080/"
        },
        "outputId": "0ebf9476-03c9-406a-9298-93c299f95fb5"
      },
      "outputs": [
        {
          "output_type": "execute_result",
          "data": {
            "text/plain": [
              "0"
            ]
          },
          "metadata": {},
          "execution_count": 41
        }
      ],
      "source": [
        "list(l)\n",
        "l.count(6)#en Python se usa para contar cuántas veces aparece un elemento en una secuencia (lista, tupla, string, etc.)."
      ]
    },
    {
      "cell_type": "markdown",
      "source": [
        "-------------------------------"
      ],
      "metadata": {
        "id": "JcgkaHVNnYm8"
      }
    },
    {
      "cell_type": "markdown",
      "metadata": {
        "id": "cyjsVCWpmCvT"
      },
      "source": [
        "## Ejercicios\n",
        "\n",
        "A continuación se listan los ejercicios a realizar para esta sesión. Para cada uno de ellos se proporciona la cabecera de la función a definir junto con unos casos de prueba para verificar el comportamiento correcto de los métodos. Lo único que deberás hacer es reemplazar el ``pass`` por la definición de la función."
      ]
    },
    {
      "cell_type": "markdown",
      "source": [
        "**Ejercicio:** Mediante listas definidas por comprensión define una función que calcule la suma de los cuadrados de los números menores que un entero dado."
      ],
      "metadata": {
        "id": "Gfo88vC9pZQu"
      }
    },
    {
      "cell_type": "code",
      "source": [
        "def suma_cuadrados_menores_entero(lista,x):\n",
        "  '''\n",
        "  >>> suma_cuadrados_menores_entero([],2)\n",
        "  0\n",
        "  >>> suma_cuadrados_menores_entero(range(0,10),5)\n",
        "  30\n",
        "  >>> suma_cuadrados_menores_entero(range(-10,10,2),0)\n",
        "  220\n",
        "  '''\n",
        "  return sum(numero ** 2 for numero in lista if numero < x)\n",
        "\n",
        "suma_cuadrados_menores_entero(range(0,10),5)"
      ],
      "metadata": {
        "id": "krlbKzrZphiV",
        "colab": {
          "base_uri": "https://localhost:8080/"
        },
        "outputId": "6f9f892f-c565-4b94-dbe9-32f46fa3bb35"
      },
      "execution_count": null,
      "outputs": [
        {
          "output_type": "execute_result",
          "data": {
            "text/plain": [
              "30"
            ]
          },
          "metadata": {},
          "execution_count": 42
        }
      ]
    },
    {
      "cell_type": "code",
      "source": [
        "import doctest\n",
        "doctest.testmod()"
      ],
      "metadata": {
        "id": "JuQBX8W5phfl"
      },
      "execution_count": null,
      "outputs": []
    },
    {
      "cell_type": "markdown",
      "source": [
        "**Ejercicio:** Mediante listas definidas por comprensión define una función que calcule la lista de los divisores de un número."
      ],
      "metadata": {
        "id": "xnh8WJx7prs-"
      }
    },
    {
      "cell_type": "code",
      "source": [
        "def divisores(x):\n",
        "  '''\n",
        "  >>> divisores(0)\n",
        "  []\n",
        "  >>> divisores(7)\n",
        "  [1, 7]\n",
        "  >>> divisores(12)\n",
        "  [1, 2, 3, 4, 6, 12]\n",
        "  '''\n",
        "  resultado=[n for n in range(1,x+1) if x%n==0]\n",
        "  return resultado\n",
        "\n",
        "divisores(0)\n",
        "divisores(7)"
      ],
      "metadata": {
        "id": "CIh3y4z4prs_",
        "colab": {
          "base_uri": "https://localhost:8080/"
        },
        "outputId": "325c36e1-9aa3-4644-f274-f91f59f329c6"
      },
      "execution_count": null,
      "outputs": [
        {
          "output_type": "execute_result",
          "data": {
            "text/plain": [
              "[]"
            ]
          },
          "metadata": {},
          "execution_count": 48
        }
      ]
    },
    {
      "cell_type": "code",
      "source": [
        "doctest.testmod()"
      ],
      "metadata": {
        "id": "VHSw4piEprtA"
      },
      "execution_count": null,
      "outputs": []
    },
    {
      "cell_type": "markdown",
      "source": [
        "**Ejercicio:** Mediante listas definidas por comprensión define una función que determine si un número es primo."
      ],
      "metadata": {
        "id": "VTr5la-Up1Wr"
      }
    },
    {
      "cell_type": "code",
      "source": [
        "def es_primo(x):\n",
        "  '''\n",
        "  >>> es_primo(1)\n",
        "  False\n",
        "  >>> es_primo(7)\n",
        "  True\n",
        "  >>> es_primo(12)\n",
        "  False\n",
        "  '''\n",
        "  divisores=[n for n in range(1,x+1) if x%n==0]\n",
        "  return(len(divisores)==2)\n",
        "\n",
        "es_primo(7)"
      ],
      "metadata": {
        "id": "1mhyZg5Xp1Ws",
        "colab": {
          "base_uri": "https://localhost:8080/"
        },
        "outputId": "ac12d127-f545-46c4-ec79-0d70ac249d77"
      },
      "execution_count": null,
      "outputs": [
        {
          "output_type": "execute_result",
          "data": {
            "text/plain": [
              "True"
            ]
          },
          "metadata": {},
          "execution_count": 21
        }
      ]
    },
    {
      "cell_type": "code",
      "source": [
        "doctest.testmod()"
      ],
      "metadata": {
        "id": "_K5jUwmJp1Ws"
      },
      "execution_count": null,
      "outputs": []
    },
    {
      "cell_type": "markdown",
      "source": [
        "**Ejercicio:** Mediante listas definidas por comprensión define una función que calcule los primos menores que un entero dado."
      ],
      "metadata": {
        "id": "1t9TLWlgqALk"
      }
    },
    {
      "cell_type": "code",
      "source": [
        "def primos_menores(x):\n",
        "  '''\n",
        "  >>> primos_menores(1)\n",
        "  []\n",
        "  >>> primos_menores(10)\n",
        "  [2, 3, 5, 7]\n",
        "  >>> primos_menores(50)\n",
        "  [2, 3, 5, 7, 11, 13, 17, 19, 23, 29, 31, 37, 41, 43, 47]\n",
        "  '''\n",
        "  primos=[n for n in range(2,x) if es_primo(n)]\n",
        "  return primos\n",
        "\n",
        "primos_menores(10)"
      ],
      "metadata": {
        "id": "brqFhGDDqALl",
        "colab": {
          "base_uri": "https://localhost:8080/"
        },
        "outputId": "da518820-9f5e-4fae-cebe-8ecb232e8961"
      },
      "execution_count": null,
      "outputs": [
        {
          "output_type": "execute_result",
          "data": {
            "text/plain": [
              "[2, 3, 5, 7, 11, 13, 17, 19, 23, 29, 31, 37, 41, 43, 47]"
            ]
          },
          "metadata": {},
          "execution_count": 57
        }
      ]
    },
    {
      "cell_type": "code",
      "source": [
        "doctest.testmod()"
      ],
      "metadata": {
        "id": "UTY6MP-TqALl"
      },
      "execution_count": null,
      "outputs": []
    },
    {
      "cell_type": "markdown",
      "source": [
        "**Ejercicio:** Implementa el método para [ordenar por mezcla](https://es.wikipedia.org/wiki/Ordenamiento_por_mezcla) una lista."
      ],
      "metadata": {
        "id": "4PEyRS0GqIMO"
      }
    },
    {
      "cell_type": "code",
      "source": [
        "def mergesort(lista):\n",
        "  '''\n",
        "  >>> mergesort([])\n",
        "  []\n",
        "  >>> mergesort([1])\n",
        "  [1]\n",
        "  >>> mergesort([5,1,-1,4,5,7])\n",
        "  [-1, 1, 4, 5, 5, 7]\n",
        "  >>> mergesort([5,1,-1,4,5,7,8])\n",
        "  [-1, 1, 4, 5, 5, 7, 8]\n",
        "  '''\n",
        "  # Caso base: lista vacía o con un solo elemento\n",
        "  if len(lista) <= 1:\n",
        "      return lista\n",
        "  # Dividir la lista en dos mitades\n",
        "  medio = len(lista) // 2\n",
        "  izquierda = lista[:medio]\n",
        "  derecha = lista[medio:]\n",
        "  # Ordenar recursivamente cada mitad\n",
        "  izquierda_ordenada = mergesort(izquierda)\n",
        "  derecha_ordenada = mergesort(derecha)\n",
        "  # Mezclar las dos mitades ordenadas\n",
        "  return mezclar(izquierda_ordenada, derecha_ordenada)\n",
        "\n",
        "\n",
        "def mezclar(izquierda, derecha):\n",
        "    \"\"\"Función auxiliar para mezclar dos listas ordenadas\"\"\"\n",
        "    resultado = []\n",
        "    i = j = 0\n",
        "    # Comparar elementos de ambas listas y agregar el menor\n",
        "    while i < len(izquierda) and j < len(derecha):\n",
        "        if izquierda[i] <= derecha[j]:\n",
        "            resultado.append(izquierda[i])\n",
        "            i += 1\n",
        "        else:\n",
        "            resultado.append(derecha[j])\n",
        "            j += 1\n",
        "    # Agregar los elementos restantes de la lista izquierda\n",
        "    while i < len(izquierda):\n",
        "        resultado.append(izquierda[i])\n",
        "        i += 1\n",
        "    # Agregar los elementos restantes de la lista derecha\n",
        "    while j < len(derecha):\n",
        "        resultado.append(derecha[j])\n",
        "        j += 1\n",
        "\n",
        "    return resultado\n",
        "\n",
        "\n",
        "mergesort([5,1,-1,4,5,7])"
      ],
      "metadata": {
        "id": "Uw9x7r3cqIMP",
        "outputId": "f441038d-3238-49fe-b7e6-31e3de5ca870",
        "colab": {
          "base_uri": "https://localhost:8080/"
        }
      },
      "execution_count": null,
      "outputs": [
        {
          "output_type": "execute_result",
          "data": {
            "text/plain": [
              "[-1, 1, 4, 5, 5, 7]"
            ]
          },
          "metadata": {},
          "execution_count": 22
        }
      ]
    },
    {
      "cell_type": "code",
      "source": [
        "#OTRA FORMA\n",
        "def mergesort_compacto(lista):\n",
        "    if len(lista) <= 1:\n",
        "        return lista\n",
        "\n",
        "    medio = len(lista) // 2\n",
        "    izquierda = mergesort_compacto(lista[:medio])\n",
        "    derecha = mergesort_compacto(lista[medio:])\n",
        "\n",
        "    return mezclar_compacto(izquierda, derecha)\n",
        "\n",
        "def mezclar_compacto(izq, der):\n",
        "    if not izq:\n",
        "        return der\n",
        "    if not der:\n",
        "        return izq\n",
        "    if izq[0] <= der[0]:\n",
        "        return [izq[0]] + mezclar_compacto(izq[1:], der)\n",
        "    else:\n",
        "        return [der[0]] + mezclar_compacto(izq, der[1:])"
      ],
      "metadata": {
        "id": "cMTT5EEvRMvp"
      },
      "execution_count": null,
      "outputs": []
    },
    {
      "cell_type": "code",
      "source": [
        "doctest.testmod()"
      ],
      "metadata": {
        "id": "0-gYgQh0qIMQ"
      },
      "execution_count": null,
      "outputs": []
    },
    {
      "cell_type": "markdown",
      "source": [
        "**Ejercicio:** Implementa el método [quicksort](https://es.wikipedia.org/wiki/Quicksort) para ordenar una lista."
      ],
      "metadata": {
        "id": "6TbMkAhnqSpb"
      }
    },
    {
      "cell_type": "code",
      "source": [
        "def quicksort(lista):\n",
        "  '''\n",
        "  >>> quicksort([])\n",
        "  []\n",
        "  >>> quicksort([1])\n",
        "  [1]\n",
        "  >>> quicksort([5,1,-1,4,5,7])\n",
        "  [-1, 1, 4, 5, 5, 7]\n",
        "  >>> quicksort([5,1,-1,4,5,7,8])\n",
        "  [-1, 1, 4, 5, 5, 7, 8]\n",
        "  '''\n",
        "  #vamos a hacerlo seleccionando el pivote como elemento central de la lista\n",
        "  if len(lista) <= 1:\n",
        "      return lista\n",
        "  pivote=lista[len(lista)//2]\n",
        "  lista_izq=[n for n in lista if n<pivote]\n",
        "  lista_drc=[n for n in lista if n>pivote]\n",
        "  centro=[n for n in lista if n==pivote]\n",
        "  return quicksort(lista_izq)+centro+quicksort(lista_drc)\n",
        "\n",
        "\n",
        "#quicksort([])\n",
        "#quicksort([1])\n",
        "#quicksort([5,1,-1,4,5,7])\n",
        "quicksort([5,1,-1,4,5,7,8])"
      ],
      "metadata": {
        "id": "TI3-VKGpqSpb",
        "colab": {
          "base_uri": "https://localhost:8080/"
        },
        "outputId": "5c77681c-b80c-4f9f-d056-cfdfd7367415"
      },
      "execution_count": 5,
      "outputs": [
        {
          "output_type": "execute_result",
          "data": {
            "text/plain": [
              "[-1, 1, 4, 5, 5, 7, 8]"
            ]
          },
          "metadata": {},
          "execution_count": 5
        }
      ]
    },
    {
      "cell_type": "code",
      "source": [
        "doctest.testmod()"
      ],
      "metadata": {
        "id": "jj42LPq4qSpc"
      },
      "execution_count": null,
      "outputs": []
    },
    {
      "cell_type": "markdown",
      "source": [
        "**Ejercicio:** Implementa el cálculo de la transpuesta de una matriz mediante listas por comprensión. Se proporciona como ayuda la implementación de la transpuesta de una matriz \"a pelo\"."
      ],
      "metadata": {
        "id": "dYPy5ipGqf95"
      }
    },
    {
      "cell_type": "code",
      "source": [
        "#La siguiente función calcula la traspuesta de una matriz \"a pelo\".\n",
        "def traspuestaAPelo (m):\n",
        "    tras=[]\n",
        "    for i in range(len(m[0])):\n",
        "        filaT=[]\n",
        "        for j in range(len(m)):\n",
        "            filaT.append(m[j][i])\n",
        "        tras.append(filaT)\n",
        "    return(tras)\n",
        "traspuestaAPelo([[1,2,3],[4,5,6]])"
      ],
      "metadata": {
        "id": "o87fiBLgqrkQ"
      },
      "execution_count": null,
      "outputs": []
    },
    {
      "cell_type": "code",
      "source": [
        "def transpuesta(lista):\n",
        "  '''\n",
        "  >>> transpuesta([[1,2,3],[4,5,6]])\n",
        "  [[1, 4], [2, 5], [3, 6]]\n",
        "  >>> transpuesta([[1, 4], [2, 5], [3, 6]])\n",
        "  [[1, 2, 3], [4, 5, 6]]\n",
        "  >>> transpuesta([[1, 4, 5], [2, 5, 7], [3, 6, 1]])\n",
        "  [[1, 2, 3], [4, 5, 6], [5, 7, 1]]\n",
        "  '''\n",
        "  traspuesta=[[lista[j][i] for j in range(len(lista))]for i in range(len(lista[0]))]\n",
        "  return traspuesta\n",
        "\n",
        "#transpuesta([[1,2,3],[4,5,6]])\n",
        "#transpuesta([[1, 4], [2, 5], [3, 6]])\n",
        "transpuesta([[1, 4, 5], [2, 5, 7], [3, 6, 1]])"
      ],
      "metadata": {
        "id": "Tg-5h79sqf96",
        "colab": {
          "base_uri": "https://localhost:8080/"
        },
        "outputId": "82e28fc0-8a1e-4094-cdac-a87e859d6c92"
      },
      "execution_count": 9,
      "outputs": [
        {
          "output_type": "execute_result",
          "data": {
            "text/plain": [
              "[[1, 2, 3], [4, 5, 6], [5, 7, 1]]"
            ]
          },
          "metadata": {},
          "execution_count": 9
        }
      ]
    },
    {
      "cell_type": "code",
      "source": [
        "doctest.testmod()"
      ],
      "metadata": {
        "id": "bn2-KE4Fqf96"
      },
      "execution_count": null,
      "outputs": []
    },
    {
      "cell_type": "markdown",
      "metadata": {
        "id": "Z8clnWPnmCvU"
      },
      "source": [
        "**Ejercicio:** Dado un grafo orientado (representado mediante un diccionario en el cual las claves son los vértices y los valores son listas con los vertices adyacentes)  y uno de sus vértices, decidir si ese vértice es un sumidero (ninguna arista sale desde él). Además, mediante listas por comprensión, dado un grafo orientado decidir si contiene algún sumidero."
      ]
    },
    {
      "cell_type": "code",
      "source": [
        "def es_sumidero(grafo,vertice):\n",
        "  '''\n",
        "  >>> es_sumidero({1: [2,3,4], 2: [], 3: [2,4],4: [2]}, 2)\n",
        "  True\n",
        "  >>> es_sumidero({1: [2,3,4], 2: [], 3: [2,4],4: [2]}, 1)\n",
        "  False\n",
        "  >>> es_sumidero({1: [2,3,4], 2: [], 3: [2,4],4: [2]}, 3)\n",
        "  False\n",
        "  >>> es_sumidero({1: [2,3,4], 2: [], 3: [2,4],4: [2]}, 4)\n",
        "  False\n",
        "  '''\n",
        "  for f in grafo:\n",
        "    if f==vertice and grafo[f]:\n",
        "      return False\n",
        "  return True\n",
        "\n",
        "#es_sumidero({1: [2,3,4], 2: [], 3: [2,4],4: [2]}, 2)\n",
        "#es_sumidero({1: [2,3,4], 2: [], 3: [2,4],4: [2]}, 1)\n",
        "#es_sumidero({1: [2,3,4], 2: [], 3: [2,4],4: [2]}, 3)\n",
        "es_sumidero({1: [2,3,4], 2: [], 3: [2,4],4: [2]}, 4)"
      ],
      "metadata": {
        "id": "PzF-FYWYqxa7",
        "colab": {
          "base_uri": "https://localhost:8080/"
        },
        "outputId": "aa5c2b5a-383c-453a-f398-4107f95f3259"
      },
      "execution_count": 13,
      "outputs": [
        {
          "output_type": "execute_result",
          "data": {
            "text/plain": [
              "False"
            ]
          },
          "metadata": {},
          "execution_count": 13
        }
      ]
    },
    {
      "cell_type": "code",
      "source": [
        "import doctest\n",
        "doctest.testmod()"
      ],
      "metadata": {
        "id": "bl27b1NeqxVf",
        "colab": {
          "base_uri": "https://localhost:8080/"
        },
        "outputId": "979271bb-5485-4cf2-b049-f720f9edc1d2"
      },
      "execution_count": 15,
      "outputs": [
        {
          "output_type": "execute_result",
          "data": {
            "text/plain": [
              "TestResults(failed=0, attempted=11)"
            ]
          },
          "metadata": {},
          "execution_count": 15
        }
      ]
    },
    {
      "cell_type": "code",
      "source": [
        "def contiene_sumidero(grafo):\n",
        "  '''\n",
        "  >>> contiene_sumidero({1: [2,3,4], 2: [], 3: [2,4],4: [2]})\n",
        "  True\n",
        "  >>> contiene_sumidero({})\n",
        "  False\n",
        "  >>> contiene_sumidero({1: [2,4], 2: [3,4], 3: [1],4: [3]})\n",
        "  False\n",
        "  '''\n",
        "  contiene=[m for m in grafo if es_sumidero(grafo,m)]\n",
        "  return len(contiene)>0\n",
        "\n",
        "#contiene_sumidero({1: [2,3,4], 2: [], 3: [2,4],4: [2]})\n",
        "#contiene_sumidero({})\n",
        "contiene_sumidero({1: [2,4], 2: [3,4], 3: [1],4: [3]})"
      ],
      "metadata": {
        "id": "I1k3NqCGqxBn",
        "colab": {
          "base_uri": "https://localhost:8080/"
        },
        "outputId": "f95fcb3c-08b9-40bf-fb6a-cb6ee398cb46"
      },
      "execution_count": 20,
      "outputs": [
        {
          "output_type": "execute_result",
          "data": {
            "text/plain": [
              "False"
            ]
          },
          "metadata": {},
          "execution_count": 20
        }
      ]
    },
    {
      "cell_type": "code",
      "source": [
        "doctest.testmod()"
      ],
      "metadata": {
        "id": "n35HWr03qw4P",
        "colab": {
          "base_uri": "https://localhost:8080/"
        },
        "outputId": "9e6b9153-519b-49a1-fa44-58c86baf6b4a"
      },
      "execution_count": 21,
      "outputs": [
        {
          "output_type": "execute_result",
          "data": {
            "text/plain": [
              "TestResults(failed=0, attempted=14)"
            ]
          },
          "metadata": {},
          "execution_count": 21
        }
      ]
    },
    {
      "cell_type": "markdown",
      "metadata": {
        "id": "9Cwzs5bMmCvU"
      },
      "source": [
        "**Ejercicio:** Implementa tu propio método zip de una lista de listas usando listas por comprensión."
      ]
    },
    {
      "cell_type": "code",
      "execution_count": 24,
      "metadata": {
        "id": "ggoLm4YWmCvU",
        "colab": {
          "base_uri": "https://localhost:8080/"
        },
        "outputId": "6ca1c874-19ee-4563-c8d5-5973763c3515"
      },
      "outputs": [
        {
          "output_type": "execute_result",
          "data": {
            "text/plain": [
              "[(1, 4), (2, 5)]"
            ]
          },
          "metadata": {},
          "execution_count": 24
        }
      ],
      "source": [
        "def mizip(lista1,lista2):\n",
        "  '''\n",
        "  >>> mizip([1,2,3],[4,5])\n",
        "  [(1, 4), (2, 5)]\n",
        "  >>> mizip([1,2,3],[4,5,6])\n",
        "  [(1, 4), (2, 5), (3, 6)]\n",
        "  >>> mizip([1,2],[4,5,6])\n",
        "  [(1, 4), (2, 5)]\n",
        "  '''\n",
        "  return [(lista1[i],lista2[i]) for i in range(min(len(lista1),len(lista2)))]\n",
        "\n",
        "#mizip([1,2,3],[4,5])\n",
        "#mizip([1,2,3],[4,5,6])\n",
        "mizip([1,2],[4,5,6])"
      ]
    },
    {
      "cell_type": "code",
      "execution_count": 25,
      "metadata": {
        "id": "F0QF_VgCmCvU",
        "colab": {
          "base_uri": "https://localhost:8080/"
        },
        "outputId": "e51c043f-a597-429e-f6bb-f4bbbc4cd180"
      },
      "outputs": [
        {
          "output_type": "execute_result",
          "data": {
            "text/plain": [
              "TestResults(failed=0, attempted=17)"
            ]
          },
          "metadata": {},
          "execution_count": 25
        }
      ],
      "source": [
        "doctest.testmod()"
      ]
    },
    {
      "cell_type": "markdown",
      "source": [
        "# Entrega\n",
        "Recuerda guardar este notebook en tu repositorio de GitHub."
      ],
      "metadata": {
        "id": "LjU5aMwiHbn0"
      }
    }
  ],
  "metadata": {
    "celltoolbar": "Raw Cell Format",
    "kernelspec": {
      "display_name": "Python 3 (ipykernel)",
      "language": "python",
      "name": "python3"
    },
    "language_info": {
      "codemirror_mode": {
        "name": "ipython",
        "version": 3
      },
      "file_extension": ".py",
      "mimetype": "text/x-python",
      "name": "python",
      "nbconvert_exporter": "python",
      "pygments_lexer": "ipython3",
      "version": "3.8.10"
    },
    "colab": {
      "provenance": [],
      "include_colab_link": true
    }
  },
  "nbformat": 4,
  "nbformat_minor": 0
}